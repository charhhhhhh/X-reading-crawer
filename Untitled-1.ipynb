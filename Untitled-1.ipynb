{
 "cells": [
  {
   "cell_type": "code",
   "execution_count": 1,
   "metadata": {},
   "outputs": [],
   "source": [
    "import selenium\n",
    "import random\n",
    "from Pw import passwor ,mail\n",
    "\n",
    "from time import sleep\n",
    "from selenium import webdriver\n",
    "from selenium.webdriver.common.by import By\n",
    "#edge people"
   ]
  },
  {
   "cell_type": "code",
   "execution_count": 2,
   "metadata": {},
   "outputs": [],
   "source": [
    "driver = webdriver.Edge()\n",
    "url=\"https://www.xreading.com/login/index.php\"\n",
    "\n",
    "driver.get(url)\n",
    "\n",
    "username=driver.find_element(\"id\",\"username\")\n",
    "password=driver.find_element(\"id\",\"password\")\n",
    "loginbtn=driver.find_element(\"id\",\"loginbtn\")\n",
    "\n",
    "sleep(1)\n",
    "username.send_keys(mail)\n",
    "password.send_keys(passwor)\n",
    "loginbtn.click()\n",
    "\n",
    "Readingbtn=driver.find_element(By.LINK_TEXT,\"Continue Reading\")\n",
    "Readingbtn.click()\n"
   ]
  },
  {
   "cell_type": "code",
   "execution_count": null,
   "metadata": {},
   "outputs": [],
   "source": [
    "\n",
    "sleep(2)\n",
    "for i in range(20):\n",
    "    driver.set_window_size(640,750)\n",
    "    sleep(random.randint(25,30))\n",
    "    driver.execute_script(\"window.scrollBy(0, 375);\")\n",
    "    sleep(random.randint(20,25))\n",
    "    driver.execute_script(\"window.scrollBy(0, 375);\")\n",
    "    btns=(driver.find_elements(By.TAG_NAME,\"button\"))\n",
    "    end=0\n",
    "\n",
    "    for btn in btns:\n",
    "        if btn.text == \"Close\":\n",
    "            btn.click()\n",
    "            end=1\n",
    "            break\n",
    "        elif btn.text == \"Next\":\n",
    "            btn.click()\n",
    "            print(f\"now done {i+1}st page\")\n",
    "            break\n",
    "    if end==1:\n",
    "        print(f\"dook is done\")\n",
    "        break\n"
   ]
  },
  {
   "cell_type": "code",
   "execution_count": null,
   "metadata": {},
   "outputs": [],
   "source": [
    "\n",
    "sleep(5)\n",
    "\n",
    "driver.close()\n",
    "print(\"done!\")"
   ]
  }
 ],
 "metadata": {
  "kernelspec": {
   "display_name": "Python 3",
   "language": "python",
   "name": "python3"
  },
  "language_info": {
   "codemirror_mode": {
    "name": "ipython",
    "version": 3
   },
   "file_extension": ".py",
   "mimetype": "text/x-python",
   "name": "python",
   "nbconvert_exporter": "python",
   "pygments_lexer": "ipython3",
   "version": "3.12.1"
  }
 },
 "nbformat": 4,
 "nbformat_minor": 2
}
