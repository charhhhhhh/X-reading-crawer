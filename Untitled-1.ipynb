{
 "cells": [
  {
   "cell_type": "code",
   "execution_count": 1,
   "metadata": {},
   "outputs": [],
   "source": [
    "import selenium\n",
    "import random\n",
    "from time import sleep\n",
    "from selenium import webdriver\n",
    "from selenium.webdriver.common.by import By\n",
    "#edge people"
   ]
  },
  {
   "cell_type": "code",
   "execution_count": 2,
   "metadata": {},
   "outputs": [
    {
     "name": "stderr",
     "output_type": "stream",
     "text": [
      "There was an error managing msedgedriver (error sending request for url (https://msedgedriver.azureedge.net/LATEST_RELEASE_129_WINDOWS)); using driver found in the cache\n",
      "Error sending stats to Plausible: error sending request for url (https://plausible.io/api/event)\n"
     ]
    },
    {
     "ename": "WebDriverException",
     "evalue": "Message: unknown error: net::ERR_INTERNET_DISCONNECTED\n  (Session info: MicrosoftEdge=129.0.2792.89)\nStacktrace:\n\tGetHandleVerifier [0x00007FF65837CEF5+12997]\n\tMicrosoft::Applications::Events::EventProperty::empty [0x00007FF6585FBD24+1897988]\n\t(No symbol) [0x00007FF65812F1CC]\n\t(No symbol) [0x00007FF6581276AB]\n\t(No symbol) [0x00007FF65811AE61]\n\t(No symbol) [0x00007FF65811C4BE]\n\t(No symbol) [0x00007FF65811B069]\n\t(No symbol) [0x00007FF65811AAB9]\n\t(No symbol) [0x00007FF65811AA5E]\n\t(No symbol) [0x00007FF658118D71]\n\t(No symbol) [0x00007FF65811911C]\n\t(No symbol) [0x00007FF658131CF1]\n\t(No symbol) [0x00007FF6581B2E0E]\n\t(No symbol) [0x00007FF658197F4A]\n\t(No symbol) [0x00007FF65816C09D]\n\t(No symbol) [0x00007FF6581B2887]\n\t(No symbol) [0x00007FF658197BB3]\n\t(No symbol) [0x00007FF65816B5AC]\n\t(No symbol) [0x00007FF65816AA8D]\n\t(No symbol) [0x00007FF65816B171]\n\tMicrosoft::Applications::Events::EventProperty::empty [0x00007FF658529E04+1038052]\n\tMicrosoft::Applications::Events::EventProperty::~EventProperty [0x00007FF6582A095F+56655]\n\tMicrosoft::Applications::Events::EventProperty::~EventProperty [0x00007FF658293103+1267]\n\tMicrosoft::Applications::Events::EventProperty::empty [0x00007FF658528B8D+1033325]\n\tMicrosoft::Applications::Events::ILogConfiguration::operator* [0x00007FF658319761+327729]\n\tMicrosoft::Applications::Events::ILogConfiguration::operator* [0x00007FF658315BE4+312500]\n\tMicrosoft::Applications::Events::ILogConfiguration::operator* [0x00007FF658315D19+312809]\n\tMicrosoft::Applications::Events::ILogConfiguration::operator* [0x00007FF65830C28C+273244]\n\tBaseThreadInitThunk [0x00007FFF242F257D+29]\n\tRtlUserThreadStart [0x00007FFF264EAF08+40]\n",
     "output_type": "error",
     "traceback": [
      "\u001b[1;31m---------------------------------------------------------------------------\u001b[0m",
      "\u001b[1;31mWebDriverException\u001b[0m                        Traceback (most recent call last)",
      "Cell \u001b[1;32mIn[2], line 4\u001b[0m\n\u001b[0;32m      1\u001b[0m driver \u001b[38;5;241m=\u001b[39m webdriver\u001b[38;5;241m.\u001b[39mEdge()\n\u001b[0;32m      2\u001b[0m url\u001b[38;5;241m=\u001b[39m\u001b[38;5;124m\"\u001b[39m\u001b[38;5;124mhttps://www.xreading.com/login/index.php\u001b[39m\u001b[38;5;124m\"\u001b[39m\n\u001b[1;32m----> 4\u001b[0m \u001b[43mdriver\u001b[49m\u001b[38;5;241;43m.\u001b[39;49m\u001b[43mget\u001b[49m\u001b[43m(\u001b[49m\u001b[43murl\u001b[49m\u001b[43m)\u001b[49m\n\u001b[0;32m      6\u001b[0m username\u001b[38;5;241m=\u001b[39mdriver\u001b[38;5;241m.\u001b[39mfind_element(\u001b[38;5;124m\"\u001b[39m\u001b[38;5;124mid\u001b[39m\u001b[38;5;124m\"\u001b[39m,\u001b[38;5;124m\"\u001b[39m\u001b[38;5;124musername\u001b[39m\u001b[38;5;124m\"\u001b[39m)\n\u001b[0;32m      7\u001b[0m password\u001b[38;5;241m=\u001b[39mdriver\u001b[38;5;241m.\u001b[39mfind_element(\u001b[38;5;124m\"\u001b[39m\u001b[38;5;124mid\u001b[39m\u001b[38;5;124m\"\u001b[39m,\u001b[38;5;124m\"\u001b[39m\u001b[38;5;124mpassword\u001b[39m\u001b[38;5;124m\"\u001b[39m)\n",
      "File \u001b[1;32mc:\\Python313\\Lib\\site-packages\\selenium\\webdriver\\remote\\webdriver.py:363\u001b[0m, in \u001b[0;36mWebDriver.get\u001b[1;34m(self, url)\u001b[0m\n\u001b[0;32m    361\u001b[0m \u001b[38;5;28;01mdef\u001b[39;00m \u001b[38;5;21mget\u001b[39m(\u001b[38;5;28mself\u001b[39m, url: \u001b[38;5;28mstr\u001b[39m) \u001b[38;5;241m-\u001b[39m\u001b[38;5;241m>\u001b[39m \u001b[38;5;28;01mNone\u001b[39;00m:\n\u001b[0;32m    362\u001b[0m \u001b[38;5;250m    \u001b[39m\u001b[38;5;124;03m\"\"\"Loads a web page in the current browser session.\"\"\"\u001b[39;00m\n\u001b[1;32m--> 363\u001b[0m     \u001b[38;5;28;43mself\u001b[39;49m\u001b[38;5;241;43m.\u001b[39;49m\u001b[43mexecute\u001b[49m\u001b[43m(\u001b[49m\u001b[43mCommand\u001b[49m\u001b[38;5;241;43m.\u001b[39;49m\u001b[43mGET\u001b[49m\u001b[43m,\u001b[49m\u001b[43m \u001b[49m\u001b[43m{\u001b[49m\u001b[38;5;124;43m\"\u001b[39;49m\u001b[38;5;124;43murl\u001b[39;49m\u001b[38;5;124;43m\"\u001b[39;49m\u001b[43m:\u001b[49m\u001b[43m \u001b[49m\u001b[43murl\u001b[49m\u001b[43m}\u001b[49m\u001b[43m)\u001b[49m\n",
      "File \u001b[1;32mc:\\Python313\\Lib\\site-packages\\selenium\\webdriver\\remote\\webdriver.py:354\u001b[0m, in \u001b[0;36mWebDriver.execute\u001b[1;34m(self, driver_command, params)\u001b[0m\n\u001b[0;32m    352\u001b[0m response \u001b[38;5;241m=\u001b[39m \u001b[38;5;28mself\u001b[39m\u001b[38;5;241m.\u001b[39mcommand_executor\u001b[38;5;241m.\u001b[39mexecute(driver_command, params)\n\u001b[0;32m    353\u001b[0m \u001b[38;5;28;01mif\u001b[39;00m response:\n\u001b[1;32m--> 354\u001b[0m     \u001b[38;5;28;43mself\u001b[39;49m\u001b[38;5;241;43m.\u001b[39;49m\u001b[43merror_handler\u001b[49m\u001b[38;5;241;43m.\u001b[39;49m\u001b[43mcheck_response\u001b[49m\u001b[43m(\u001b[49m\u001b[43mresponse\u001b[49m\u001b[43m)\u001b[49m\n\u001b[0;32m    355\u001b[0m     response[\u001b[38;5;124m\"\u001b[39m\u001b[38;5;124mvalue\u001b[39m\u001b[38;5;124m\"\u001b[39m] \u001b[38;5;241m=\u001b[39m \u001b[38;5;28mself\u001b[39m\u001b[38;5;241m.\u001b[39m_unwrap_value(response\u001b[38;5;241m.\u001b[39mget(\u001b[38;5;124m\"\u001b[39m\u001b[38;5;124mvalue\u001b[39m\u001b[38;5;124m\"\u001b[39m, \u001b[38;5;28;01mNone\u001b[39;00m))\n\u001b[0;32m    356\u001b[0m     \u001b[38;5;28;01mreturn\u001b[39;00m response\n",
      "File \u001b[1;32mc:\\Python313\\Lib\\site-packages\\selenium\\webdriver\\remote\\errorhandler.py:229\u001b[0m, in \u001b[0;36mErrorHandler.check_response\u001b[1;34m(self, response)\u001b[0m\n\u001b[0;32m    227\u001b[0m         alert_text \u001b[38;5;241m=\u001b[39m value[\u001b[38;5;124m\"\u001b[39m\u001b[38;5;124malert\u001b[39m\u001b[38;5;124m\"\u001b[39m]\u001b[38;5;241m.\u001b[39mget(\u001b[38;5;124m\"\u001b[39m\u001b[38;5;124mtext\u001b[39m\u001b[38;5;124m\"\u001b[39m)\n\u001b[0;32m    228\u001b[0m     \u001b[38;5;28;01mraise\u001b[39;00m exception_class(message, screen, stacktrace, alert_text)  \u001b[38;5;66;03m# type: ignore[call-arg]  # mypy is not smart enough here\u001b[39;00m\n\u001b[1;32m--> 229\u001b[0m \u001b[38;5;28;01mraise\u001b[39;00m exception_class(message, screen, stacktrace)\n",
      "\u001b[1;31mWebDriverException\u001b[0m: Message: unknown error: net::ERR_INTERNET_DISCONNECTED\n  (Session info: MicrosoftEdge=129.0.2792.89)\nStacktrace:\n\tGetHandleVerifier [0x00007FF65837CEF5+12997]\n\tMicrosoft::Applications::Events::EventProperty::empty [0x00007FF6585FBD24+1897988]\n\t(No symbol) [0x00007FF65812F1CC]\n\t(No symbol) [0x00007FF6581276AB]\n\t(No symbol) [0x00007FF65811AE61]\n\t(No symbol) [0x00007FF65811C4BE]\n\t(No symbol) [0x00007FF65811B069]\n\t(No symbol) [0x00007FF65811AAB9]\n\t(No symbol) [0x00007FF65811AA5E]\n\t(No symbol) [0x00007FF658118D71]\n\t(No symbol) [0x00007FF65811911C]\n\t(No symbol) [0x00007FF658131CF1]\n\t(No symbol) [0x00007FF6581B2E0E]\n\t(No symbol) [0x00007FF658197F4A]\n\t(No symbol) [0x00007FF65816C09D]\n\t(No symbol) [0x00007FF6581B2887]\n\t(No symbol) [0x00007FF658197BB3]\n\t(No symbol) [0x00007FF65816B5AC]\n\t(No symbol) [0x00007FF65816AA8D]\n\t(No symbol) [0x00007FF65816B171]\n\tMicrosoft::Applications::Events::EventProperty::empty [0x00007FF658529E04+1038052]\n\tMicrosoft::Applications::Events::EventProperty::~EventProperty [0x00007FF6582A095F+56655]\n\tMicrosoft::Applications::Events::EventProperty::~EventProperty [0x00007FF658293103+1267]\n\tMicrosoft::Applications::Events::EventProperty::empty [0x00007FF658528B8D+1033325]\n\tMicrosoft::Applications::Events::ILogConfiguration::operator* [0x00007FF658319761+327729]\n\tMicrosoft::Applications::Events::ILogConfiguration::operator* [0x00007FF658315BE4+312500]\n\tMicrosoft::Applications::Events::ILogConfiguration::operator* [0x00007FF658315D19+312809]\n\tMicrosoft::Applications::Events::ILogConfiguration::operator* [0x00007FF65830C28C+273244]\n\tBaseThreadInitThunk [0x00007FFF242F257D+29]\n\tRtlUserThreadStart [0x00007FFF264EAF08+40]\n"
     ]
    }
   ],
   "source": [
    "driver = webdriver.Edge()\n",
    "url=\"https://www.xreading.com/login/index.php\"\n",
    "\n",
    "driver.get(url)\n",
    "\n",
    "username=driver.find_element(\"id\",\"username\")\n",
    "password=driver.find_element(\"id\",\"password\")\n",
    "loginbtn=driver.find_element(\"id\",\"loginbtn\")\n",
    "\n",
    "\n",
    "username.send_keys(\"D1348951@o365.fcu.edu.tw\")\n",
    "password.send_keys(\"e12qwaszx\")\n",
    "loginbtn.click()\n",
    "\n",
    "sleep(2)\n",
    "Readingbtn=driver.find_element(By.XPATH,\"//*[@id=\\\"region-main\\\"]/div/div[3]/div/div[1]/div[2]/div[2]/div[2]/a\")\n",
    "Readingbtn.click()\n",
    "sleep(2)"
   ]
  },
  {
   "cell_type": "code",
   "execution_count": null,
   "metadata": {},
   "outputs": [
    {
     "name": "stdout",
     "output_type": "stream",
     "text": [
      "11\n",
      "False\n",
      "False\n",
      "False\n",
      "False\n",
      "False\n",
      "False\n",
      "False\n",
      "False\n",
      "False\n",
      "True\n",
      "False\n"
     ]
    }
   ],
   "source": [
    "\n",
    "\n",
    "for i in range(1):\n",
    "    driver.set_window_size(640,750)\n",
    "    sleep(random.randint(25,30))\n",
    "    driver.execute_script(\"window.scrollBy(0, 375);\")\n",
    "    sleep(random.randint(20,25))\n",
    "    driver.execute_script(\"window.scrollBy(0, 375);\")\n",
    "    btns=(driver.find_elements(By.TAG_NAME,\"button\"))\n",
    "    \n",
    "    for btn in btns:\n",
    "        if btn.text == \"Next\":\n",
    "            btn.click()\n",
    "            break\n",
    "    print(f\"now done {i+1}st page\")"
   ]
  },
  {
   "cell_type": "code",
   "execution_count": null,
   "metadata": {},
   "outputs": [],
   "source": [
    "\n",
    "# def send_notification():\n",
    "#     notification.notify(\n",
    "#         message=\"done reading\\n\" * 16,\n",
    "#         app_name=\"我的应用\",\n",
    "#     )\n",
    "\n",
    "# send_notification()\n",
    "sleep(5)\n",
    "\n",
    "\n",
    "driver.close()\n",
    "print(\"done!\")"
   ]
  }
 ],
 "metadata": {
  "kernelspec": {
   "display_name": "Python 3",
   "language": "python",
   "name": "python3"
  },
  "language_info": {
   "codemirror_mode": {
    "name": "ipython",
    "version": 3
   },
   "file_extension": ".py",
   "mimetype": "text/x-python",
   "name": "python",
   "nbconvert_exporter": "python",
   "pygments_lexer": "ipython3",
   "version": "3.13.0"
  }
 },
 "nbformat": 4,
 "nbformat_minor": 2
}
